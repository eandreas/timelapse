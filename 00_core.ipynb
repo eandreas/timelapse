{
 "cells": [
  {
   "cell_type": "code",
   "execution_count": null,
   "metadata": {},
   "outputs": [],
   "source": [
    "# default_exp core"
   ]
  },
  {
   "cell_type": "markdown",
   "metadata": {},
   "source": [
    "# timelapse\n",
    "> Create time-lapse videos with date and time stamp from images"
   ]
  },
  {
   "cell_type": "code",
   "execution_count": null,
   "metadata": {},
   "outputs": [],
   "source": [
    "#hide\n",
    "from nbdev.showdoc import *"
   ]
  },
  {
   "cell_type": "code",
   "execution_count": null,
   "metadata": {},
   "outputs": [],
   "source": [
    "import cv2\n",
    "from pathlib2 import Path\n",
    "from matplotlib import pyplot as plt\n",
    "from exif import Image\n",
    "from datetime import datetime"
   ]
  },
  {
   "cell_type": "code",
   "execution_count": null,
   "metadata": {},
   "outputs": [],
   "source": [
    "#export\n",
    "def openImageCV2(path):\n",
    "    '''Returns a cv2-image read based on a pathlib2-Path variable'''\n",
    "    return cv2.imread(path.as_posix())"
   ]
  },
  {
   "cell_type": "code",
   "execution_count": null,
   "metadata": {},
   "outputs": [],
   "source": [
    "#export\n",
    "def plotCV2(img):\n",
    "    plt.imshow(cv2.cvtColor(img, cv2.COLOR_BGR2RGB))\n",
    "    plt.axis('off')\n",
    "    plt.show()"
   ]
  },
  {
   "cell_type": "code",
   "execution_count": null,
   "metadata": {},
   "outputs": [],
   "source": [
    "#export\n",
    "def putText(img, text, x, y, fontSize, thickness, bgrColor):\n",
    "    return cv2.putText(\n",
    "        img,  text, (x,y),\n",
    "        cv2.FONT_HERSHEY_SIMPLEX, fontSize,\n",
    "        bgrColor, thickness, cv2.LINE_AA)"
   ]
  },
  {
   "cell_type": "code",
   "execution_count": null,
   "metadata": {},
   "outputs": [],
   "source": [
    "#export\n",
    "def getDateTimePictureTaken(path):\n",
    "    ds = Image(path).get(\"datetime_original\")\n",
    "    return datetime.strptime(ds, '%Y:%m:%d %H:%M:%S')"
   ]
  },
  {
   "cell_type": "code",
   "execution_count": null,
   "metadata": {},
   "outputs": [],
   "source": []
  }
 ],
 "metadata": {
  "kernelspec": {
   "display_name": "Python (timelapse)",
   "language": "python",
   "name": "timelapse"
  }
 },
 "nbformat": 4,
 "nbformat_minor": 2
}
