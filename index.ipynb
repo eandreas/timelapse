{
 "cells": [
  {
   "cell_type": "code",
   "execution_count": null,
   "metadata": {},
   "outputs": [],
   "source": [
    "#hide\n",
    "from timelapse.core import *"
   ]
  },
  {
   "cell_type": "markdown",
   "metadata": {},
   "source": [
    "# Time-lapse videos\n",
    "\n",
    "> Create a time-lapse video with date and time stamp out of image files."
   ]
  },
  {
   "cell_type": "markdown",
   "metadata": {},
   "source": [
    "## Install"
   ]
  },
  {
   "cell_type": "markdown",
   "metadata": {},
   "source": [
    "`timelapse` is uner development. Please follow the three steps below to install and use this module:\n",
    "\n",
    "```\n",
    "git clone https://github.com/eandreas/timelapse.git\n",
    "cd timelaps\n",
    "pip install -e timelapse\n",
    "```"
   ]
  },
  {
   "cell_type": "markdown",
   "metadata": {},
   "source": [
    "## How to use"
   ]
  },
  {
   "cell_type": "markdown",
   "metadata": {},
   "source": [
    "A description will follow..."
   ]
  },
  {
   "cell_type": "code",
   "execution_count": null,
   "metadata": {},
   "outputs": [
    {
     "data": {
      "text/plain": [
       "array([[[50, 55, 56],\n",
       "        [50, 55, 56],\n",
       "        [50, 58, 58],\n",
       "        ...,\n",
       "        [48, 57, 60],\n",
       "        [52, 61, 64],\n",
       "        [54, 63, 66]],\n",
       "\n",
       "       [[47, 52, 53],\n",
       "        [48, 53, 54],\n",
       "        [52, 60, 60],\n",
       "        ...,\n",
       "        [48, 57, 60],\n",
       "        [48, 57, 60],\n",
       "        [48, 57, 60]],\n",
       "\n",
       "       [[45, 50, 51],\n",
       "        [48, 53, 54],\n",
       "        [56, 61, 62],\n",
       "        ...,\n",
       "        [50, 59, 62],\n",
       "        [47, 56, 59],\n",
       "        [42, 51, 54]],\n",
       "\n",
       "       ...,\n",
       "\n",
       "       [[67, 59, 60],\n",
       "        [65, 57, 58],\n",
       "        [65, 57, 58],\n",
       "        ...,\n",
       "        [47, 67, 84],\n",
       "        [45, 68, 84],\n",
       "        [45, 68, 84]],\n",
       "\n",
       "       [[66, 58, 59],\n",
       "        [66, 58, 59],\n",
       "        [64, 58, 59],\n",
       "        ...,\n",
       "        [48, 71, 87],\n",
       "        [49, 72, 88],\n",
       "        [50, 73, 89]],\n",
       "\n",
       "       [[65, 59, 60],\n",
       "        [64, 58, 59],\n",
       "        [62, 56, 57],\n",
       "        ...,\n",
       "        [48, 71, 87],\n",
       "        [49, 72, 88],\n",
       "        [49, 72, 88]]], dtype=uint8)"
      ]
     },
     "execution_count": null,
     "metadata": {},
     "output_type": "execute_result"
    }
   ],
   "source": [
    "from pathlib2 import Path\n",
    "openImageCV2(Path('../playgrounds/data/input_img/series_1/G0020575.JPG'))"
   ]
  },
  {
   "cell_type": "code",
   "execution_count": null,
   "metadata": {},
   "outputs": [],
   "source": []
  },
  {
   "cell_type": "code",
   "execution_count": null,
   "metadata": {},
   "outputs": [],
   "source": []
  }
 ],
 "metadata": {
  "kernelspec": {
   "display_name": "Python (timelapse)",
   "language": "python",
   "name": "timelapse"
  }
 },
 "nbformat": 4,
 "nbformat_minor": 2
}
